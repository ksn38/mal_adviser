{
 "cells": [
  {
   "cell_type": "code",
   "execution_count": 3,
   "metadata": {},
   "outputs": [],
   "source": [
    "from bs4 import BeautifulSoup as bs\n",
    "import pandas as pd\n",
    "import numpy as np\n",
    "import re"
   ]
  },
  {
   "cell_type": "markdown",
   "metadata": {},
   "source": [
    "Save anime list as text in firefox"
   ]
  },
  {
   "cell_type": "code",
   "execution_count": 4,
   "metadata": {},
   "outputs": [],
   "source": [
    "with open('me.txt', 'r') as f:\n",
    "    text = f.read()\n",
    "\n",
    "rating = [i[:2] for i in re.findall('[0-9]{1,} <#>', text)]"
   ]
  },
  {
   "cell_type": "code",
   "execution_count": 5,
   "metadata": {},
   "outputs": [],
   "source": [
    "anime_id = [i[30:] for i in re.findall('https://myanimelist.net/anime/[0-9]{1,}', text)]\n",
    "\n",
    "set_anime_id = set(anime_id)\n",
    "anime = []\n",
    "\n",
    "for i in anime_id:\n",
    "    if i in set_anime_id:\n",
    "        anime.append(i)\n",
    "        set_anime_id.remove(i)\n",
    "        \n",
    "me = pd.DataFrame({'user_id': 400000, 'anime_id': anime[:len(rating)], 'rating': rating})"
   ]
  },
  {
   "cell_type": "code",
   "execution_count": 6,
   "metadata": {},
   "outputs": [],
   "source": [
    "me.to_csv('400000.csv', index=False)\n",
    "# me"
   ]
  }
 ],
 "metadata": {
  "kernelspec": {
   "display_name": "Python 3",
   "language": "python",
   "name": "python3"
  },
  "language_info": {
   "codemirror_mode": {
    "name": "ipython",
    "version": 3
   },
   "file_extension": ".py",
   "mimetype": "text/x-python",
   "name": "python",
   "nbconvert_exporter": "python",
   "pygments_lexer": "ipython3",
   "version": "3.7.8"
  }
 },
 "nbformat": 4,
 "nbformat_minor": 4
}
